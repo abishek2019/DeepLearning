{
  "nbformat": 4,
  "nbformat_minor": 0,
  "metadata": {
    "colab": {
      "provenance": [],
      "gpuType": "T4",
      "authorship_tag": "ABX9TyNhmL1Lpb8JkaZtJRcJ4oYf",
      "include_colab_link": true
    },
    "kernelspec": {
      "name": "python3",
      "display_name": "Python 3"
    },
    "language_info": {
      "name": "python"
    },
    "accelerator": "GPU"
  },
  "cells": [
    {
      "cell_type": "markdown",
      "metadata": {
        "id": "view-in-github",
        "colab_type": "text"
      },
      "source": [
        "<a href=\"https://colab.research.google.com/github/abishek2019/DeepLearning/blob/main/Image_classifier_PyTorch.ipynb\" target=\"_parent\"><img src=\"https://colab.research.google.com/assets/colab-badge.svg\" alt=\"Open In Colab\"/></a>"
      ]
    },
    {
      "cell_type": "code",
      "execution_count": null,
      "metadata": {
        "id": "1UFNqi5mBAxo"
      },
      "outputs": [],
      "source": [
        "import torch\n",
        "import torchvision\n",
        "import torchvision.datasets as d\n",
        "import torchvision.transforms as t\n",
        "import torch.utils.data as data"
      ]
    },
    {
      "cell_type": "code",
      "source": [
        "device = torch.device('cuda' if torch.cuda.is_available() else 'cpu')"
      ],
      "metadata": {
        "id": "uT1fKk4t5S84"
      },
      "execution_count": null,
      "outputs": []
    },
    {
      "cell_type": "code",
      "source": [
        "# 1. LOAD AND NORMALIZE THE DATA\n",
        "# Each image is 3*32*32.\n",
        "transform = t.Compose([t.ToTensor(), t.Normalize((0.5, 0.5, 0.5), (0.5, 0.5, 0.5))])\n",
        "train_data = d.CIFAR10(root='./data', train=True, download=True, transform=transform)\n",
        "trainloader = data.DataLoader(dataset=train_data, batch_size=4, shuffle=True, num_workers=2)\n",
        "test_date = d.CIFAR10(root='./data', train=False, transform=transform, download= True)\n",
        "testloader = data.DataLoader(dataset=test_date,batch_size=4,shuffle=False,num_workers=2)"
      ],
      "metadata": {
        "colab": {
          "base_uri": "https://localhost:8080/"
        },
        "id": "MSbqam3wDdbT",
        "outputId": "b43fdfd7-cd76-491e-c3fe-c8d8949e15d5"
      },
      "execution_count": null,
      "outputs": [
        {
          "output_type": "stream",
          "name": "stdout",
          "text": [
            "Files already downloaded and verified\n",
            "Files already downloaded and verified\n"
          ]
        }
      ]
    },
    {
      "cell_type": "code",
      "source": [
        "import torch.nn as nn\n",
        "import torch.functional as f"
      ],
      "metadata": {
        "id": "5XENoVx7H-6K"
      },
      "execution_count": null,
      "outputs": []
    },
    {
      "cell_type": "code",
      "source": [
        "# 2. DEFINE THE MODEL\n",
        "# CNN: num_filters1 = 6, num_filters2 = 16, filter_size = 5, s = 1, p = 0, pool 2*2\n",
        "# FCN: 2 hidden layers and o/p layer with 120, 84, and 10 neurons respectively.\n",
        "class Image_classifier(nn.Module):\n",
        "  def __init__(self):\n",
        "    super(Image_classifier, self).__init__()\n",
        "    self.conv1 = nn.Conv2d(in_channels=3, out_channels=6, kernel_size=5, stride=1, padding=0)\n",
        "    self.relu = nn.ReLU()\n",
        "    self.pool = nn.MaxPool2d(2,2)\n",
        "    self.conv2 = nn.Conv2d(in_channels=6, out_channels=16, kernel_size=5, stride=1, padding=0)\n",
        "    # self.conv3 = nn.Conv2d(in_channels=16, out_channels=32, kernel_size=2, stride=1, padding=0)\n",
        "    self.flatten = nn.Flatten()\n",
        "    self.fcn1 = nn.Linear(16*5*5, 120)\n",
        "    self.fcn2 = nn.Linear(120, 84)\n",
        "    self.fcn3 = nn.Linear(84, 10)\n",
        "    # self.softmax = nn.Softmax(dim = 1)\n",
        "\n",
        "  def forward(self, x):\n",
        "    x = self.pool(self.relu(self.conv2(self.pool(self.relu(self.conv1(x))))))\n",
        "    x = self.flatten(x)\n",
        "    # x = self.softmax(self.fcn3(self.relu(self.fcn2(self.relu(self.fcn1(x))))))\n",
        "    x = self.fcn3(self.relu(self.fcn2(self.relu(self.fcn1(x)))))\n",
        "    return x\n",
        "\n",
        "model = Image_classifier().to(device)"
      ],
      "metadata": {
        "id": "dBfwsMdyQSdN"
      },
      "execution_count": null,
      "outputs": []
    },
    {
      "cell_type": "code",
      "source": [
        "# 3. DEFINE THE LOSS FUNCTION\n",
        "# Using Cross-Entropy loss and Stochastic Gradient Descent with Momentum (=0.9) and learning rate = 0.001\n",
        "import torch.optim as optim\n",
        "loss_fn = nn.CrossEntropyLoss()\n",
        "optimizer = optim.SGD(model.parameters(), lr = 0.001, momentum=0.9)"
      ],
      "metadata": {
        "id": "Y9XM4H6CwxxX"
      },
      "execution_count": null,
      "outputs": []
    },
    {
      "cell_type": "code",
      "source": [
        "# 4. TRAIN THE MODEL\n",
        "for epoch in range(2):\n",
        "  running_loss = 0.0\n",
        "  for i, data in enumerate(trainloader):\n",
        "    # Get the data\n",
        "    images = data[0].to(device)\n",
        "    labels = data[1].to(device)\n",
        "    # Zero the parameter gradients\n",
        "    optimizer.zero_grad()\n",
        "    # foward + backward + optimize\n",
        "    outputs = model(images)\n",
        "    loss = loss_fn(outputs, labels)\n",
        "    loss.backward()\n",
        "    optimizer.step()\n",
        "    # Print stats\n",
        "    running_loss += loss.item()\n",
        "    if (i + 1) % 2000 == 0:\n",
        "      print(f'Epoch: {epoch + 1}, Batch: {i + 1}, Running loss: {running_loss / 2000:.4f}')\n",
        "      running_loss = 0.0\n",
        "print('Training Finished')\n",
        "torch.save(model.state_dict(), 'model.pth')\n"
      ],
      "metadata": {
        "colab": {
          "base_uri": "https://localhost:8080/"
        },
        "id": "T7iKeMfb0BQT",
        "outputId": "dd9683de-8bee-4dfc-ed73-8c47d9fc22d1"
      },
      "execution_count": null,
      "outputs": [
        {
          "output_type": "stream",
          "name": "stdout",
          "text": [
            "Epoch: 1, Batch: 2000, Running loss: 2.1792\n",
            "Epoch: 1, Batch: 4000, Running loss: 1.8613\n",
            "Epoch: 1, Batch: 6000, Running loss: 1.6528\n",
            "Epoch: 1, Batch: 8000, Running loss: 1.5630\n",
            "Epoch: 1, Batch: 10000, Running loss: 1.5091\n",
            "Epoch: 1, Batch: 12000, Running loss: 1.4665\n",
            "Epoch: 2, Batch: 2000, Running loss: 1.3968\n",
            "Epoch: 2, Batch: 4000, Running loss: 1.3690\n",
            "Epoch: 2, Batch: 6000, Running loss: 1.3438\n",
            "Epoch: 2, Batch: 8000, Running loss: 1.3113\n",
            "Epoch: 2, Batch: 10000, Running loss: 1.2973\n",
            "Epoch: 2, Batch: 12000, Running loss: 1.2923\n",
            "Training Finished\n"
          ]
        }
      ]
    },
    {
      "cell_type": "code",
      "source": [
        "# Test the model on total test data\n",
        "model = Image_classifier().to(device)\n",
        "model.load_state_dict(torch.load('model.pth'))\n",
        "model.eval()\n",
        "# No gradient\n",
        "with torch.no_grad():\n",
        "  correct = 0\n",
        "  total = 0\n",
        "  classes = ('plane', 'car', 'bird', 'cat',\n",
        "           'deer', 'dog', 'frog', 'horse', 'ship', 'truck')\n",
        "  correct_pred = {classname:0 for classname in classes}\n",
        "  total_pred = {classname:0 for classname in classes}\n",
        "  for images, labels in testloader:\n",
        "    # Get the data\n",
        "    images = images.to(device)\n",
        "    labels = labels.to(device)\n",
        "    # Forward\n",
        "    outputs = model(images)\n",
        "    # Max energy\n",
        "    _, predictions = torch.max(outputs.data, 1)\n",
        "    total += labels.size(0)\n",
        "    correct += (predictions == labels).sum().item()\n",
        "    for label, prediction in zip(labels, predictions):\n",
        "      if label == prediction:\n",
        "        correct_pred[classes[label]] +=1\n",
        "      total_pred[classes[label]] += 1\n",
        "\n",
        "print(f'Accurcay: {100 * correct / total:.2f}%')\n",
        "for (classname, values) in correct_pred.items():\n",
        "  print(f'Class: {classname}, Accuracy: {100 * values/total_pred[classname]}%')"
      ],
      "metadata": {
        "colab": {
          "base_uri": "https://localhost:8080/"
        },
        "id": "FAYJxoSO-bby",
        "outputId": "86875cec-a44d-4ecd-d9e3-30e244ec9fe1"
      },
      "execution_count": null,
      "outputs": [
        {
          "output_type": "stream",
          "name": "stdout",
          "text": [
            "Accurcay: 53.37%\n",
            "Class: plane, Accuracy: 62.0%\n",
            "Class: car, Accuracy: 83.0%\n",
            "Class: bird, Accuracy: 31.4%\n",
            "Class: cat, Accuracy: 58.7%\n",
            "Class: deer, Accuracy: 40.3%\n",
            "Class: dog, Accuracy: 12.6%\n",
            "Class: frog, Accuracy: 54.5%\n",
            "Class: horse, Accuracy: 63.1%\n",
            "Class: ship, Accuracy: 73.5%\n",
            "Class: truck, Accuracy: 54.6%\n"
          ]
        }
      ]
    },
    {
      "cell_type": "code",
      "source": [
        "# Prediction\n",
        "# Load and preprocess the input image\n",
        "from PIL import Image\n",
        "transform = t.Compose([\n",
        "    t.Resize((32, 32)),\n",
        "    t.ToTensor(),\n",
        "    t.Normalize((0.5, 0.5, 0.5), (0.5, 0.5, 0.5))\n",
        "])\n",
        "input_image = Image.open(\"cat.jpg\")\n",
        "input_tensor = transform(input_image).unsqueeze(0).to(device)\n",
        "# Predict\n",
        "with torch.no_grad():\n",
        "  output = model(input_tensor)\n",
        "  _, prediction = torch.max(output.data, 1)\n",
        "prediction = classes[prediction.item()]\n",
        "print(prediction)"
      ],
      "metadata": {
        "colab": {
          "base_uri": "https://localhost:8080/"
        },
        "id": "XZoQImiXb3-z",
        "outputId": "cb13bb99-520c-4965-9522-8b38ce8d60f8"
      },
      "execution_count": null,
      "outputs": [
        {
          "output_type": "stream",
          "name": "stdout",
          "text": [
            "cat\n"
          ]
        }
      ]
    },
    {
      "cell_type": "code",
      "source": [
        "import matplotlib.pyplot as plt\n",
        "import numpy as np\n",
        "# function to show an image\n",
        "def imshow(img):\n",
        "    img = img / 2 + 0.5     # unnormalize\n",
        "    npimg = img.numpy()\n",
        "    plt.imshow(np.transpose(npimg, (1, 2, 0)))\n",
        "    plt.show()\n",
        "\n",
        "# get some random training images\n",
        "images, labels = next(iter(testloader))\n",
        "\n",
        "# show test images\n",
        "imshow(torchvision.utils.make_grid(images))\n",
        "print('Labels:', end = ' ')\n",
        "print(' '.join(classes[label] for label in labels))\n",
        "# show custom image\n",
        "imshow(torchvision.utils.make_grid(input_tensor.to('cpu')))\n",
        "print(prediction)\n"
      ],
      "metadata": {
        "colab": {
          "base_uri": "https://localhost:8080/",
          "height": 641
        },
        "id": "iTZwGSYMk1Wb",
        "outputId": "e54387de-b5da-405b-db05-dfc7cb2dc99c"
      },
      "execution_count": null,
      "outputs": [
        {
          "output_type": "display_data",
          "data": {
            "text/plain": [
              "<Figure size 640x480 with 1 Axes>"
            ],
            "image/png": "[encoded data removed]"
          },
          "metadata": {}
        },
        {
          "output_type": "stream",
          "name": "stdout",
          "text": [
            "Labels: cat ship ship plane\n"
          ]
        },
        {
          "output_type": "display_data",
          "data": {
            "text/plain": [
              "<Figure size 640x480 with 1 Axes>"
            ],
            "image/png": "[encoded data removed]"
          },
          "metadata": {}
        },
        {
          "output_type": "stream",
          "name": "stdout",
          "text": [
            "cat\n"
          ]
        }
      ]
    }
  ]
}