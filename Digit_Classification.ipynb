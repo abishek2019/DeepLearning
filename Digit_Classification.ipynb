{
  "nbformat": 4,
  "nbformat_minor": 0,
  "metadata": {
    "colab": {
      "provenance": [],
      "gpuType": "T4",
      "authorship_tag": "ABX9TyO61mzqkRWUAD1a6NugsRwO",
      "include_colab_link": true
    },
    "kernelspec": {
      "name": "python3",
      "display_name": "Python 3"
    },
    "language_info": {
      "name": "python"
    },
    "accelerator": "GPU"
  },
  "cells": [
    {
      "cell_type": "markdown",
      "metadata": {
        "id": "view-in-github",
        "colab_type": "text"
      },
      "source": [
        "<a href=\"https://colab.research.google.com/github/abishek2019/DeepLearning/blob/main/Digit_Classification.ipynb\" target=\"_parent\"><img src=\"https://colab.research.google.com/assets/colab-badge.svg\" alt=\"Open In Colab\"/></a>"
      ]
    },
    {
      "cell_type": "code",
      "execution_count": 2,
      "metadata": {
        "id": "3_NF2PrNowKs"
      },
      "outputs": [],
      "source": [
        "import torch\n",
        "import torch.nn as nn\n",
        "import torch.optim as optim\n",
        "import torch.utils.data as data\n",
        "from torchvision import datasets as d, transforms as t\n",
        "import warnings\n",
        "warnings.filterwarnings(\"ignore\", category=UserWarning, module=\"torch.utils.data\")"
      ]
    },
    {
      "cell_type": "code",
      "source": [
        "device = torch.device(\"cuda\" if torch.cuda.is_available() else \"cpu\")"
      ],
      "metadata": {
        "id": "5flntN42qT4Z"
      },
      "execution_count": 3,
      "outputs": []
    },
    {
      "cell_type": "code",
      "source": [
        "batch_size = 10\n",
        "learning_rate = 0.001\n",
        "epochs = 10"
      ],
      "metadata": {
        "id": "VgDbliGUrP7j"
      },
      "execution_count": 4,
      "outputs": []
    },
    {
      "cell_type": "code",
      "source": [
        "# 1. Load and normalize the data\n",
        "transform = t.Compose([t.ToTensor(), t.Normalize((0.1307), (0.3081,))])\n",
        "train_set = d.MNIST(root='./data', train=True, download=True, transform=transform)\n",
        "test_set = d.MNIST(root='./data', train=False, download=True, transform=transform)\n",
        "trainloader = data.DataLoader(train_set, batch_size=batch_size, shuffle=True, num_workers=2)\n",
        "testloader = data.DataLoader(test_set, batch_size=batch_size, shuffle=False, num_workers=2)"
      ],
      "metadata": {
        "colab": {
          "base_uri": "https://localhost:8080/"
        },
        "id": "HTypkZTRpBIE",
        "outputId": "0b852d5e-cd2c-4253-83ea-94fc3bee1619"
      },
      "execution_count": 5,
      "outputs": [
        {
          "output_type": "stream",
          "name": "stdout",
          "text": [
            "Downloading http://yann.lecun.com/exdb/mnist/train-images-idx3-ubyte.gz\n",
            "Downloading http://yann.lecun.com/exdb/mnist/train-images-idx3-ubyte.gz to ./data/MNIST/raw/train-images-idx3-ubyte.gz\n"
          ]
        },
        {
          "output_type": "stream",
          "name": "stderr",
          "text": [
            "100%|██████████| 9912422/9912422 [00:00<00:00, 390451923.29it/s]"
          ]
        },
        {
          "output_type": "stream",
          "name": "stdout",
          "text": [
            "Extracting ./data/MNIST/raw/train-images-idx3-ubyte.gz to ./data/MNIST/raw\n"
          ]
        },
        {
          "output_type": "stream",
          "name": "stderr",
          "text": [
            "\n"
          ]
        },
        {
          "output_type": "stream",
          "name": "stdout",
          "text": [
            "\n",
            "Downloading http://yann.lecun.com/exdb/mnist/train-labels-idx1-ubyte.gz\n",
            "Downloading http://yann.lecun.com/exdb/mnist/train-labels-idx1-ubyte.gz to ./data/MNIST/raw/train-labels-idx1-ubyte.gz\n"
          ]
        },
        {
          "output_type": "stream",
          "name": "stderr",
          "text": [
            "100%|██████████| 28881/28881 [00:00<00:00, 25310424.95it/s]"
          ]
        },
        {
          "output_type": "stream",
          "name": "stdout",
          "text": [
            "Extracting ./data/MNIST/raw/train-labels-idx1-ubyte.gz to ./data/MNIST/raw\n",
            "\n",
            "Downloading http://yann.lecun.com/exdb/mnist/t10k-images-idx3-ubyte.gz\n",
            "Downloading http://yann.lecun.com/exdb/mnist/t10k-images-idx3-ubyte.gz to ./data/MNIST/raw/t10k-images-idx3-ubyte.gz\n"
          ]
        },
        {
          "output_type": "stream",
          "name": "stderr",
          "text": [
            "\n",
            "100%|██████████| 1648877/1648877 [00:00<00:00, 149322927.70it/s]\n"
          ]
        },
        {
          "output_type": "stream",
          "name": "stdout",
          "text": [
            "Extracting ./data/MNIST/raw/t10k-images-idx3-ubyte.gz to ./data/MNIST/raw\n",
            "\n",
            "Downloading http://yann.lecun.com/exdb/mnist/t10k-labels-idx1-ubyte.gz\n",
            "Downloading http://yann.lecun.com/exdb/mnist/t10k-labels-idx1-ubyte.gz to ./data/MNIST/raw/t10k-labels-idx1-ubyte.gz\n"
          ]
        },
        {
          "output_type": "stream",
          "name": "stderr",
          "text": [
            "100%|██████████| 4542/4542 [00:00<00:00, 10513536.85it/s]\n"
          ]
        },
        {
          "output_type": "stream",
          "name": "stdout",
          "text": [
            "Extracting ./data/MNIST/raw/t10k-labels-idx1-ubyte.gz to ./data/MNIST/raw\n",
            "\n"
          ]
        }
      ]
    },
    {
      "cell_type": "code",
      "source": [
        "print(train_set.targets)\n",
        "print(len(train_set))\n",
        "print(len(trainloader))\n",
        "print(next(iter(trainloader))[1])"
      ],
      "metadata": {
        "colab": {
          "base_uri": "https://localhost:8080/"
        },
        "id": "K2eWlqIm9CS-",
        "outputId": "a7897e4b-f430-45aa-93a5-3bc990f94142"
      },
      "execution_count": 6,
      "outputs": [
        {
          "output_type": "stream",
          "name": "stdout",
          "text": [
            "tensor([5, 0, 4,  ..., 5, 6, 8])\n",
            "60000\n",
            "6000\n",
            "tensor([8, 1, 4, 0, 9, 3, 6, 6, 2, 5])\n"
          ]
        }
      ]
    },
    {
      "cell_type": "code",
      "source": [
        "# 2. Define the model\n",
        "# Image size 1*28*28, n_f1 = 20, n_f2 = 40, f = 5*5, s = 1, p = 0, pool = 2*2\n",
        "#FCN1 = 200, FCN2 = 200, OP = 10\n",
        "class Digit_Classification(nn.Module):\n",
        "  def __init__(self):\n",
        "    super(Digit_Classification, self).__init__()\n",
        "    self.conv1 = nn.Conv2d(in_channels=1, out_channels=20,kernel_size=5, stride=1, padding=0)\n",
        "    self.relu = nn.ReLU()\n",
        "    self.pool = nn.MaxPool2d(2, 2)\n",
        "    self.conv2 = nn.Conv2d(in_channels=20, out_channels=40,kernel_size=5, stride=1, padding=0)\n",
        "    self.flatten = nn.Flatten()\n",
        "    self.fcn1 = nn.Linear(40*4*4, 200)\n",
        "    self.dropout = nn.Dropout(p = 0.5)\n",
        "    self.fcn2 = nn.Linear(200, 200)\n",
        "    self.fcn3 = nn.Linear(200, 10)\n",
        "    self.softmax = nn.Softmax(dim = 1)\n",
        "\n",
        "  def forward(self, x):\n",
        "    x = self.pool(self.relu(self.conv2(self.pool(self.relu(self.conv1(x))))))\n",
        "    x = self.flatten(x)\n",
        "    x = self.softmax(self.fcn3(self.dropout(self.relu(self.fcn2(self.dropout(self.relu(self.fcn1(x))))))))\n",
        "    return x\n",
        "model = Digit_Classification().to(device)"
      ],
      "metadata": {
        "id": "7kD1-R9ir-q9"
      },
      "execution_count": 7,
      "outputs": []
    },
    {
      "cell_type": "code",
      "source": [
        "# 3. Define the loss functions and optimizer\n",
        "loss_fn = nn.CrossEntropyLoss()\n",
        "optimizer = optim.SGD(model.parameters(), lr=learning_rate, momentum=0.9)"
      ],
      "metadata": {
        "id": "vVL0T5fHyFec"
      },
      "execution_count": 8,
      "outputs": []
    },
    {
      "cell_type": "code",
      "source": [
        "# 4. Train the model\n",
        "for epoch in range(epochs):\n",
        "  running_loss = 0.0\n",
        "  for i, (digits, labels) in enumerate(trainloader):\n",
        "    #  Get the data\n",
        "    digits = digits.to(device)\n",
        "    labels = labels.to(device)\n",
        "    # set Zero Grad\n",
        "    optimizer.zero_grad()\n",
        "    # Forward\n",
        "    outputs = model(digits)\n",
        "    loss = loss_fn(outputs, labels)\n",
        "    # Backwards\n",
        "    loss.backward()\n",
        "    # Optimize\n",
        "    optimizer.step()\n",
        "    running_loss += loss.item()\n",
        "    if (i + 1) % 1000 == 0:\n",
        "      print(f'Epoch: {epoch + 1}, Batch: {i + 1}, Losss: {running_loss/1000:.2f}.')\n",
        "      running_loss = 0.0\n",
        "torch.save(model.state_dict(), 'model.pth')"
      ],
      "metadata": {
        "colab": {
          "base_uri": "https://localhost:8080/"
        },
        "id": "vS4C-EBZyt0F",
        "outputId": "94a748ac-fb70-4e9d-db3d-280b345fc4b3"
      },
      "execution_count": 9,
      "outputs": [
        {
          "output_type": "stream",
          "name": "stdout",
          "text": [
            "Epoch: 1, Batch: 1000, Losss: 2.30.\n",
            "Epoch: 1, Batch: 2000, Losss: 2.25.\n",
            "Epoch: 1, Batch: 3000, Losss: 1.93.\n",
            "Epoch: 1, Batch: 4000, Losss: 1.75.\n",
            "Epoch: 1, Batch: 5000, Losss: 1.66.\n",
            "Epoch: 1, Batch: 6000, Losss: 1.60.\n",
            "Epoch: 2, Batch: 1000, Losss: 1.57.\n",
            "Epoch: 2, Batch: 2000, Losss: 1.56.\n",
            "Epoch: 2, Batch: 3000, Losss: 1.56.\n",
            "Epoch: 2, Batch: 4000, Losss: 1.54.\n",
            "Epoch: 2, Batch: 5000, Losss: 1.54.\n",
            "Epoch: 2, Batch: 6000, Losss: 1.53.\n",
            "Epoch: 3, Batch: 1000, Losss: 1.52.\n",
            "Epoch: 3, Batch: 2000, Losss: 1.52.\n",
            "Epoch: 3, Batch: 3000, Losss: 1.52.\n",
            "Epoch: 3, Batch: 4000, Losss: 1.52.\n",
            "Epoch: 3, Batch: 5000, Losss: 1.52.\n",
            "Epoch: 3, Batch: 6000, Losss: 1.51.\n",
            "Epoch: 4, Batch: 1000, Losss: 1.51.\n",
            "Epoch: 4, Batch: 2000, Losss: 1.51.\n",
            "Epoch: 4, Batch: 3000, Losss: 1.51.\n",
            "Epoch: 4, Batch: 4000, Losss: 1.51.\n",
            "Epoch: 4, Batch: 5000, Losss: 1.50.\n",
            "Epoch: 4, Batch: 6000, Losss: 1.51.\n",
            "Epoch: 5, Batch: 1000, Losss: 1.50.\n",
            "Epoch: 5, Batch: 2000, Losss: 1.50.\n",
            "Epoch: 5, Batch: 3000, Losss: 1.50.\n",
            "Epoch: 5, Batch: 4000, Losss: 1.50.\n",
            "Epoch: 5, Batch: 5000, Losss: 1.50.\n",
            "Epoch: 5, Batch: 6000, Losss: 1.50.\n",
            "Epoch: 6, Batch: 1000, Losss: 1.50.\n",
            "Epoch: 6, Batch: 2000, Losss: 1.50.\n",
            "Epoch: 6, Batch: 3000, Losss: 1.49.\n",
            "Epoch: 6, Batch: 4000, Losss: 1.50.\n",
            "Epoch: 6, Batch: 5000, Losss: 1.49.\n",
            "Epoch: 6, Batch: 6000, Losss: 1.49.\n",
            "Epoch: 7, Batch: 1000, Losss: 1.49.\n",
            "Epoch: 7, Batch: 2000, Losss: 1.49.\n",
            "Epoch: 7, Batch: 3000, Losss: 1.49.\n",
            "Epoch: 7, Batch: 4000, Losss: 1.49.\n",
            "Epoch: 7, Batch: 5000, Losss: 1.49.\n",
            "Epoch: 7, Batch: 6000, Losss: 1.49.\n",
            "Epoch: 8, Batch: 1000, Losss: 1.49.\n",
            "Epoch: 8, Batch: 2000, Losss: 1.49.\n",
            "Epoch: 8, Batch: 3000, Losss: 1.49.\n",
            "Epoch: 8, Batch: 4000, Losss: 1.49.\n",
            "Epoch: 8, Batch: 5000, Losss: 1.49.\n",
            "Epoch: 8, Batch: 6000, Losss: 1.49.\n",
            "Epoch: 9, Batch: 1000, Losss: 1.49.\n",
            "Epoch: 9, Batch: 2000, Losss: 1.49.\n",
            "Epoch: 9, Batch: 3000, Losss: 1.49.\n",
            "Epoch: 9, Batch: 4000, Losss: 1.49.\n",
            "Epoch: 9, Batch: 5000, Losss: 1.49.\n",
            "Epoch: 9, Batch: 6000, Losss: 1.48.\n",
            "Epoch: 10, Batch: 1000, Losss: 1.49.\n",
            "Epoch: 10, Batch: 2000, Losss: 1.48.\n",
            "Epoch: 10, Batch: 3000, Losss: 1.49.\n",
            "Epoch: 10, Batch: 4000, Losss: 1.49.\n",
            "Epoch: 10, Batch: 5000, Losss: 1.49.\n",
            "Epoch: 10, Batch: 6000, Losss: 1.48.\n"
          ]
        }
      ]
    },
    {
      "cell_type": "code",
      "source": [
        "# 5. Test the model\n",
        "correct = 0\n",
        "total = 0\n",
        "model = Digit_Classification().to(device)\n",
        "model.load_state_dict(torch.load('model.pth'))\n",
        "model.eval()\n",
        "with torch.no_grad():\n",
        "  for i, (images, labels) in enumerate(testloader):\n",
        "    images, labels = images.to(device), labels.to(device)\n",
        "    outputs = model(images)\n",
        "    _, predictions = torch.max(outputs.data, 1)\n",
        "    correct += (predictions == labels).sum().item()\n",
        "    total += labels.size(0)\n",
        "print(f'Accuracy: {100 * correct / total}%')"
      ],
      "metadata": {
        "colab": {
          "base_uri": "https://localhost:8080/"
        },
        "id": "dL8FdD-7ddBx",
        "outputId": "5efe6804-20f5-4835-8014-27792bc3a985"
      },
      "execution_count": 10,
      "outputs": [
        {
          "output_type": "stream",
          "name": "stdout",
          "text": [
            "Accuracy: 98.48%\n"
          ]
        }
      ]
    },
    {
      "cell_type": "code",
      "source": [
        "from PIL import Image\n",
        "import matplotlib.pyplot as plt\n",
        "import numpy as np\n",
        "import torchvision\n",
        "\n",
        "# function to show an image\n",
        "def imshow(img):\n",
        "    img = img / 2 + 0.5     # unnormalize\n",
        "    npimg = img.numpy()\n",
        "    plt.imshow(np.transpose(npimg, (1, 2, 0)))\n",
        "    plt.show()\n",
        "\n",
        "# 6. Predict new digit\n",
        "def prep_and_predict(original_image):\n",
        "  # Input_digit is a color image so we need to first convert it to Grayscale and transfer to size 28*28 as the model requires it.\n",
        "  # -preprocess\n",
        "  transform = t.Compose([\n",
        "      t.Resize((28, 28)),\n",
        "      t.ToTensor(),\n",
        "      t.Normalize((0.1307), (0.3081,))\n",
        "      ])\n",
        "  grayscale_digit = original_image.convert('L')\n",
        "  input_tensor = transform(grayscale_digit).unsqueeze(0).to(device)\n",
        "\n",
        "  # -predict\n",
        "  with torch.no_grad():\n",
        "    output = model(input_tensor)\n",
        "    _, prediction = torch.max(output.data, 1)\n",
        "  # prediction = classes[prediction.item()]\n",
        "  prediction = prediction.item()\n",
        "  # show custom image\n",
        "  imshow(torchvision.utils.make_grid(input_tensor.to('cpu')))\n",
        "  print(f'The predicted digit is: {prediction}\\n')\n",
        "\n",
        "test_images = ['9.webp', '3.png']\n",
        "for image in test_images:\n",
        "  original_image = Image.open(image)\n",
        "  prediction = prep_and_predict(original_image)"
      ],
      "metadata": {
        "colab": {
          "base_uri": "https://localhost:8080/",
          "height": 930
        },
        "id": "PVWLVdPPgPKx",
        "outputId": "9cac7e54-d16e-4836-f818-c3f4882a05b7"
      },
      "execution_count": 48,
      "outputs": [
        {
          "output_type": "stream",
          "name": "stderr",
          "text": [
            "WARNING:matplotlib.image:Clipping input data to the valid range for imshow with RGB data ([0..1] for floats or [0..255] for integers).\n"
          ]
        },
        {
          "output_type": "display_data",
          "data": {
            "text/plain": [
              "<Figure size 640x480 with 1 Axes>"
            ],
            "image/png": "[encoded data removed]"
          },
          "metadata": {}
        },
        {
          "output_type": "stream",
          "name": "stdout",
          "text": [
            "The predicted digit is: 9\n",
            "\n"
          ]
        },
        {
          "output_type": "display_data",
          "data": {
            "text/plain": [
              "<Figure size 640x480 with 1 Axes>"
            ],
            "image/png": "[encoded data removed]"
          },
          "metadata": {}
        },
        {
          "output_type": "stream",
          "name": "stdout",
          "text": [
            "The predicted digit is: 3\n",
            "\n"
          ]
        }
      ]
    }
  ]
}